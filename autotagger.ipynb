{
 "cells": [
  {
   "cell_type": "code",
   "execution_count": 91,
   "metadata": {},
   "outputs": [
    {
     "name": "stdout",
     "output_type": "stream",
     "text": [
      "[nltk_data] Downloading package punkt to\n",
      "[nltk_data]     /home/felipecortez/nltk_data...\n",
      "[nltk_data]   Package punkt is already up-to-date!\n",
      "[nltk_data] Downloading package averaged_perceptron_tagger to\n",
      "[nltk_data]     /home/felipecortez/nltk_data...\n",
      "[nltk_data]   Package averaged_perceptron_tagger is already up-to-\n",
      "[nltk_data]       date!\n",
      "[nltk_data] Downloading package wordnet to\n",
      "[nltk_data]     /home/felipecortez/nltk_data...\n",
      "[nltk_data]   Package wordnet is already up-to-date!\n"
     ]
    }
   ],
   "source": [
    "from collections import namedtuple\n",
    "import csv\n",
    "import nltk\n",
    "import logging, gensim\n",
    "logging.basicConfig(format='%(asctime)s : %(levelname)s : %(message)s', level=logging.INFO)\n",
    "\n",
    "nltk.download('punkt')   # tokenizer\n",
    "nltk.download('averaged_perceptron_tagger') # POS\n",
    "nltk.download('wordnet') # similarity\n",
    "\n",
    "def with_tag(tag):\n",
    "    return list(filter(lambda item: tag in item.tags, bookmarks))"
   ]
  },
  {
   "cell_type": "code",
   "execution_count": 102,
   "metadata": {},
   "outputs": [
    {
     "name": "stdout",
     "output_type": "stream",
     "text": [
      "Bookmark(title='Stefan Tosheff - Illustrations', tags=['design', 'people'])\n",
      "Bookmark(title='\\u200eStrange films are strange (actually good)', tags=['film'])\n",
      "Bookmark(title='OpenGL Reference Card', tags=['compsci', 'graphics'])\n",
      "Bookmark(title='The Art of Rendering', tags=['compsci', 'graphics'])\n",
      "Bookmark(title='A Singular Christmas', tags=['music'])\n",
      "Bookmark(title='List of musical works released in a stem format', tags=['lists', 'music', 'wikipedia'])\n",
      "Bookmark(title='Alan Ranta', tags=['music', 'people'])\n",
      "Bookmark(title='James Spectrum Studio', tags=['music'])\n",
      "Bookmark(title='Tools of the Trade: Zorch - Omnichords', tags=['instruments', 'music'])\n",
      "Bookmark(title='How to add depth to a mix', tags=['music', 'production'])\n",
      "Bookmark(title='Chord Theory for Guitar', tags=['music'])\n",
      "Bookmark(title='List of Internet phenomena', tags=['lists', 'misc', 'wikipedia'])\n",
      "Bookmark(title='ii-V-I: A Softly Spoken Magic Spell', tags=['music'])\n",
      "Bookmark(title='Mixtape Alpha with useful links', tags=['music'])\n",
      "Bookmark(title='David Byrne Radio', tags=['music'])\n",
      "Bookmark(title='MixingAudio.com • Audio Samples', tags=['music'])\n",
      "Bookmark(title='All of Bach', tags=['awesome', 'music', 'videos'])\n",
      "Bookmark(title='How Amps Work', tags=['music'])\n",
      "Bookmark(title='Dan the Automator Interview', tags=['interviews', 'music'])\n",
      "Bookmark(title='List of musical works in unusual time signatures', tags=['music', 'music-theory'])\n"
     ]
    }
   ],
   "source": [
    "bookmarks = []\n",
    "Bookmark = namedtuple('Bookmark', ['title', 'tags'])\n",
    "\n",
    "with open('marks.csv', newline='') as csvfile:\n",
    "    reader = csv.reader(csvfile, delimiter=',', quotechar='|')\n",
    "    # transforms lists as strings to real lists\n",
    "    for row in reader:\n",
    "        bookmarks.append(Bookmark(row[0], eval(row[1])))\n",
    "        \n",
    "for b in bookmarks[30:50]: print(b)"
   ]
  },
  {
   "cell_type": "code",
   "execution_count": 113,
   "metadata": {
    "collapsed": true
   },
   "outputs": [
    {
     "name": "stdout",
     "output_type": "stream",
     "text": [
      "['3d', 'golang', 'ice', 'photography', 'maths', 'misc', 'vim', 'videos', 'architecture', 'food', 'functional', 'cpp', 'acoustics', 'infosec', '.apto', 'programming', 'blogs', 'sql', 'travel', 'audiodev', 'css', 'rym', '.shopping', 'birmingham', 'cah', 'interviews', 'networks', 'electronics', 'illustration', 'inpe', 'gaming', 'ux', 'now', 'private', 'c', 'later', 'papers', 'java', 'lisp', '.sp', 'python', 'awesome', 'js', 'lists', 'art', 'tex', 'max', 'clojure', '.jobs', 'grybo', 'typography', 'site', 'nlp', 'gallery', 'music-theory', 'design', 'viz', 'academia', 'hardware', 'bmarks', 'ai', 'crypto', 'nix', 'articles', '.campanha', 'assembly', 'guitar', 'dsp', 'webdev', 'data', 'production', 'colors', 'installation', 'language', 'film', 'people', 'synth', 'proglangs', 'tcc', 'jazz', 'philosophy', 'foundry', 'algorithms', 'music', '.lucio', 'instruments', 'wikipedia', 'interactive', '.unlisted', 'mix', 'gamedev', 'compsci', 'tvtropes', 'swift', 'graphics', 'books', 'history', 'ponte', '.tab-collection', 'process', 'haha', 'tweet', 'haskell', 'animation']\n"
     ]
    }
   ],
   "source": [
    "all_tags = []\n",
    "for bookmark in bookmarks:\n",
    "    all_tags.extend(bookmark.tags)\n",
    "    \n",
    "all_tags = list(set(all_tags))\n",
    "print(all_tags)"
   ]
  },
  {
   "cell_type": "code",
   "execution_count": 104,
   "metadata": {},
   "outputs": [
    {
     "name": "stdout",
     "output_type": "stream",
     "text": [
      "2380\n",
      "595\n"
     ]
    }
   ],
   "source": [
    "from sklearn.model_selection import train_test_split\n",
    "\n",
    "bookmarks_train, bookmarks_test = train_test_split(bookmarks, test_size=0.20, random_state=42)\n",
    "\n",
    "print(len(bookmarks_train))\n",
    "print(len(bookmarks_test))"
   ]
  },
  {
   "cell_type": "code",
   "execution_count": 106,
   "metadata": {},
   "outputs": [],
   "source": [
    "from nltk.stem import WordNetLemmatizer\n",
    "\n",
    "wordnet_lemmatizer = WordNetLemmatizer()\n",
    "words = []\n",
    "\n",
    "for bookmark in with_tag(\"production\"):\n",
    "    lemmatized = [wordnet_lemmatizer.lemmatize(w.lower()) for w in bookmark.title.split()]\n",
    "    words.extend(lemmatized)"
   ]
  },
  {
   "cell_type": "code",
   "execution_count": 110,
   "metadata": {},
   "outputs": [
    {
     "name": "stdout",
     "output_type": "stream",
     "text": [
      "[('How', 'WRB'), ('to', 'TO'), ('add', 'VB'), ('depth', 'NN'), ('to', 'TO'), ('a', 'DT'), ('mix', 'NN')]\n",
      "[('The', 'DT'), ('14', 'CD'), ('synthesizers', 'NNS'), ('that', 'WDT'), ('shaped', 'VBD'), ('modern', 'JJ'), ('music', 'NN')]\n",
      "[('Beautifully', 'RB'), ('Produced', 'NNP'), ('Albums', 'NNP')]\n",
      "[('Best', 'JJS'), ('music', 'NN'), ('producers', 'NNS')]\n",
      "[('The', 'DT'), ('Making', 'NNP'), ('of', 'IN'), ('a', 'DT'), ('Mars', 'NNP'), ('Volta', 'NNP'), ('album', 'NN')]\n",
      "[('27', 'CD'), ('best', 'JJS'), ('free', 'JJ'), ('VSTs', 'NN')]\n",
      "[('Damon', 'NNP'), ('Albarn', 'NNP'), ('Studio', 'NNP'), ('13', 'CD'), ('equipment', 'NN')]\n",
      "[('Sinevibes', 'NNS')]\n",
      "[('Hydrophones', 'NNS'), (':', ':'), (':', ':'), ('H1a', 'NN')]\n",
      "[('Schroeder', 'NNP'), ('Reverbs', 'NNP')]\n",
      "[('Audio-Technica', 'NNP'), ('AT4051', 'NNP')]\n",
      "[('Zach', 'NNP'), ('’', 'NNP'), ('s', 'VBD'), ('Recorder', 'NNP'), ('Recommendations', 'NNS')]\n",
      "[('Ivor-Mairants', 'NNS')]\n",
      "[('Paulstretch', 'NN')]\n",
      "[('808', 'CD'), (',', ','), ('SP1200', 'NNP'), (',', ','), ('MPC', 'NNP'), (',', ','), ('NS-10', 'NNP'), ('reborn', 'NN'), ('in', 'IN'), ('tiny', 'JJ'), ('USB', 'NNP'), ('drives', 'NNS')]\n",
      "[('Behind', 'IN'), ('The', 'DT'), ('Sounds', 'NNPS'), (':', ':'), ('I', 'PRP'), ('Know', 'VBP'), ('There', 'EX'), (\"'s\", 'VBZ'), ('An', 'DT'), ('Answer', 'NN')]\n",
      "[('Wabi', 'NNP'), ('Sabi', 'NNP'), ('Sound', 'NNP')]\n",
      "[('The', 'DT'), ('First', 'NNP'), ('Record', 'NNP'), ('Producers', 'NNP'), ('(', '('), ('Joe', 'NNP'), ('Meek', 'NNP'), ('&', 'CC'), ('Phil', 'NNP'), ('Spector', 'NNP'), (')', ')')]\n",
      "[('Micah', 'NNP'), ('Frank', 'NNP'), ('-', ':'), ('Sound', 'NN'), ('Programming', 'VBG')]\n",
      "[('Hear', 'NNP'), ('Different', 'NNP'), ('Directional', 'NNP'), ('Patterns', 'NNP'), ('in', 'IN'), ('Audio', 'NNP'), ('Recording', 'NNP')]\n",
      "[('Synth', 'JJ'), ('Secrets', 'NNP'), ('(', '('), ('Sound', 'NNP'), ('on', 'IN'), ('Sound', 'NNP'), ('series', 'NN'), (')', ')')]\n",
      "[('AZur', 'NNP'), ('Studio', 'NNP'), ('-', ':'), ('GUI', 'NNP'), ('Stuff', 'NNP')]\n",
      "[('40+', 'CD'), ('VST', 'NNP'), ('Plugins', 'NNP'), ('and', 'CC'), ('AU', 'NNP'), ('Plugins', 'NNP'), ('Downloads', 'NNP'), ('-', ':'), ('Voxengo', 'NN')]\n",
      "[('Pepe', 'NNP'), ('Deluxé', 'NNP'), ('-', ':'), ('Queen', 'NN'), ('Of', 'IN'), ('The', 'DT'), ('Wave', 'NNP'), ('musicians', 'NNS'), ('and', 'CC'), ('instruments', 'NNS')]\n",
      "[('Motion', 'NNP'), ('Picture', 'NNP'), ('Sound', 'NNP'), ('Editors', 'NNS')]\n",
      "[('99', 'CD'), ('%', 'NN'), ('Invisible', 'JJ'), ('Podcast', 'NNP'), ('-', ':'), ('Sounds', 'NNS')]\n",
      "[('Mellotron', 'NNP'), ('/', 'NNP'), ('Chamberlin', 'NNP'), ('sounds', 'NNS')]\n",
      "[('Inside', 'IN'), ('The', 'DT'), ('Great', 'NNP'), ('Stalacpipe', 'NNP'), ('Organ', 'NNP'), (':', ':'), ('The', 'DT'), ('World', 'NNP'), ('’', 'NNP'), ('s', 'RB'), ('Largest', 'NNP'), ('Instrument', 'NN')]\n",
      "[('Album', 'NNP'), ('DNA', 'NNP'), ('-', ':'), ('Recording', 'VBG'), ('a', 'DT'), ('downtempo', 'NN'), ('album', 'NN')]\n",
      "[('Omar', 'NNP'), ('Rodriguez', 'NNP'), (\"'s\", 'POS'), ('Studio', 'NNP'), ('Gear', 'NNP'), ('(', '('), ('2', 'CD'), (')', ')')]\n",
      "[('Omar', 'NNP'), ('Rodriguez', 'NNP'), (\"'s\", 'POS'), ('Studio', 'NNP'), ('Gear', 'NNP'), ('(', '('), ('1', 'CD'), (')', ')')]\n",
      "[('Free', 'JJ'), ('Drum', 'NNP'), ('Machines', 'NNS')]\n",
      "[('The', 'DT'), ('14', 'CD'), ('drum', 'NN'), ('machines', 'NNS'), ('that', 'WDT'), ('shaped', 'VBD'), ('modern', 'JJ'), ('music', 'NN')]\n",
      "[('Berklee', 'NNP'), ('Alumni', 'NNP'), ('Free', 'NNP'), ('Samples', 'NNP')]\n",
      "[('DAW', 'NNP'), ('Wars', 'NNP')]\n",
      "[('Kid', 'VB'), ('A', 'NNP'), ('(', '('), ('The', 'DT'), ('Wire', 'NNP'), (')', ')')]\n",
      "[('Brian', 'NNP'), ('Reitzell', 'NNP'), (\"'s\", 'POS'), ('Studio', 'NN'), (':', ':'), ('A', 'DT'), ('Photo', 'NNP'), ('Essay', 'NNP')]\n",
      "[('Ableton', 'NNP'), ('Live', 'NNP'), ('Ultimate', 'NNP'), ('Course', 'NNP')]\n",
      "[('Aphex', 'NNP'), ('Twin', 'NNP'), (\"'s\", 'POS'), ('automated', 'VBN'), ('snare', 'NN'), ('drum', 'NN')]\n",
      "[('Vintage', 'NN'), ('drum', 'NN'), ('kits', 'NNS'), ('of', 'IN'), ('the', 'DT'), ('1920s', 'CD'), ('and', 'CC'), ('1930s', 'CD')]\n",
      "[('Loomer', 'NNP'), ('Audio', 'NNP'), ('Units', 'NNP')]\n",
      "[('The', 'DT'), ('Glyn', 'NNP'), ('Johns', 'NNP'), ('Drum', 'NNP'), ('Recording', 'NNP'), ('Method', 'NNP')]\n",
      "[('Free', 'JJ'), ('Casio', 'NNP'), ('VL-1', 'NNP'), ('Virtual', 'NNP'), ('Instrument', 'NNP')]\n",
      "[('Serban', 'NNP'), ('Ghenea', 'NNP'), ('-', ':'), ('pop', 'NN'), ('music', 'NN'), ('mixing', 'NN')]\n",
      "[('Master', 'NNP'), ('Class', 'NN'), (':', ':'), ('Ableton', 'NNP'), ('Live', 'NNP'), (\"'s\", 'POS'), ('Operator', 'NN')]\n",
      "[('Microphone', 'CD'), ('Database', 'NNP')]\n",
      "[('Bricasti', 'NNP'), ('Design', 'NNP'), ('-', ':'), ('M7', 'NNP'), ('Reverb', 'NNP'), ('Box', 'NNP')]\n",
      "[('NSynth', 'NNP'), ('-', ':'), ('Neural', 'JJ'), ('Network', 'NNP'), ('Synthesiser', 'NNP')]\n",
      "[('Glastonbury', 'NN'), ('2009', 'CD'), ('console', 'NN'), ('desks', 'NNS')]\n",
      "[('Behind', 'IN'), ('the', 'DT'), ('Scenes', 'NNS'), ('With', 'IN'), ('Here', 'RB'), ('We', 'PRP'), ('Go', 'VBP'), ('Magic', 'JJ')]\n",
      "[('Cymbal', 'JJ'), ('synthesis', 'NN'), ('tutorial', 'NN')]\n",
      "[('Kid', 'NNP'), ('Koala', 'NNP'), ('|', 'NNP'), ('Equipboard', 'NNP')]\n",
      "[('Grundig', 'NNP'), ('Reel-to-Reel', 'NNP'), ('Tape', 'NNP'), ('Recorders', 'NNP')]\n",
      "[('Mac', 'NNP'), ('Demarco', 'NNP'), (':', ':'), ('Varispeed', 'NN'), ('and', 'CC'), ('Beyond', 'NNP'), ('|', 'NNP'), ('Tape', 'NNP'), ('Op', 'NNP')]\n",
      "[('Classic', 'JJ'), ('Tracks', 'NNS'), (':', ':'), ('Nine', 'NNP'), ('Inch', 'NNP'), ('Nails', 'NNP'), ('‘', 'NNP'), ('Closer', 'NNP'), ('’', 'NN')]\n",
      "[('Inside', 'IN'), ('Abbey', 'NNP'), ('Road', 'NNP'), ('-', ':'), ('Google', 'NN')]\n",
      "[('Flaming', 'VBG'), ('Lips', 'NNP'), ('Drum', 'NNP'), ('Sounds', 'NNP'), ('?', '.'), ('-', ':'), ('Keith', 'NNP'), ('Cleversley', 'NNP'), (\"'s\", 'POS'), ('Playground', 'NNP'), ('Studio', 'NNP')]\n",
      "[('Recording', 'VBG'), ('in', 'IN'), ('the', 'DT'), ('60s', 'CD'), ('|', 'NNS'), ('MuroMusicProject', 'NNP')]\n",
      "[('Frostwave', 'NNP'), ('Sonic', 'NNP'), ('Alienator', 'NNP'), ('w/', 'VBD'), ('Elektron', 'NNP'), ('SPS-1', 'NNP'), ('MachineDrum', 'NNP')]\n",
      "[('Exploring', 'VBG'), ('Reverb', 'NNP'), ('with', 'IN'), ('Julianna', 'NNP'), ('Barwick', 'NNP'), ('-', ':'), ('Soundtoys', 'NN')]\n",
      "[('Musicianship', 'NN'), ('of', 'IN'), ('Brian', 'NNP'), ('Wilson', 'NNP')]\n",
      "[('Speaker/Studio', 'NNP'), ('Monitor', 'NNP'), ('Placement', 'NNP'), ('Secrets', 'NNS')]\n",
      "[('DIY', 'NNP'), ('Reverb', 'NNP')]\n",
      "[('Use', 'NNP'), ('Reverb', 'NNP'), ('Like', 'IN'), ('A', 'NNP'), ('Pro', 'NNP')]\n",
      "[('Wave', 'NNP'), ('Studios', 'NNP')]\n",
      "[('Ronaldo', 'NNP'), ('Evangelista', 'NNP'), ('-', ':'), ('Goma-Laca', 'NN'), (',', ','), ('Donato', 'NNP')]\n",
      "[('Man', 'NN'), ('From', 'IN'), ('Uranus', 'NNP')]\n",
      "[('The', 'DT'), ('Open', 'NNP'), ('Acoustic', 'NNP'), ('Impulse', 'NNP'), ('Response', 'NNP'), ('Library', 'NNP')]\n",
      "[('scrubbing', 'VBG'), ('clips', 'NNS'), ('for', 'IN'), ('glitchy', 'NN'), ('textures', 'NNS')]\n",
      "[('13', 'CD'), ('Reborn', 'JJ'), (':', ':'), ('Damon', 'NNP'), ('Albarn', 'NNP'), ('’', 'NNP'), ('s', 'NN'), ('Studio', 'NNP')]\n",
      "[('Sonographic', 'NNP'), ('Sound', 'NNP'), ('Processing', 'NNP'), ('with', 'IN'), ('Max', 'NNP')]\n",
      "[('Fourloops', 'NNS'), ('by', 'IN'), ('Goodhertz', 'NNP')]\n",
      "[('Broadcast', 'NNP'), ('interview', 'NN'), ('on', 'IN'), ('gear', 'NN')]\n",
      "[('Watson', 'NNP'), ('Wu', 'NNP')]\n",
      "[('Moinsound', 'NNP'), (\"'s\", 'POS'), ('Blog', 'NNP')]\n",
      "[('Vinylium', 'NN')]\n",
      "[('Samuel', 'NNP'), ('Justice', 'NNP'), ('|', 'NNP'), ('sound', 'NN'), ('design', 'NN'), ('for', 'IN'), ('media', 'NNS')]\n",
      "[('Behind', 'IN'), ('the', 'DT'), ('delightfully', 'RB'), ('vintage', 'JJ'), ('sound', 'NN'), ('of', 'IN'), (\"'Cuphead\", 'NNP'), (\"'\", 'POS'), ('-', ':'), ('with', 'IN'), ('Samuel', 'NNP'), ('Justice', 'NNP')]\n",
      "[('Purposeful', 'JJ'), ('Haze', 'NNP'), (':', ':'), ('Re-Create', 'JJ'), ('‘', 'NN'), ('60s', 'CD'), ('Drum', 'NNP'), ('Sounds', 'NNP')]\n",
      "[('Nady', 'JJ'), ('RSM-5', 'NNP'), ('Ribbon', 'NNP'), ('Studio', 'NNP'), ('Microphone', 'NNP')]\n",
      "[('LMMS', 'NNP'), ('DAW', 'NNP')]\n",
      "[('Studio', 'NNP'), ('Monitor', 'NNP'), ('Placement', 'NNP'), ('—', 'NNP'), ('Finding', 'VBG'), ('the', 'DT'), ('Sweet', 'NNP'), ('Spot', 'NNP')]\n",
      "[('Marta', 'NNP'), ('Salogni', 'NNP')]\n",
      "[('Patch', 'NNP'), ('&', 'CC'), ('Tweak', 'NNP'), ('•', 'VBZ'), ('the', 'DT'), ('new', 'JJ'), ('book', 'NN'), ('about', 'IN'), ('modular', 'JJ'), ('synthesis', 'NN')]\n",
      "[('Notes', 'NNS'), ('on', 'IN'), ('Resonance', 'NN')]\n",
      "[('BBC', 'NNP'), ('Sound', 'NNP'), ('Effects', 'NNS')]\n"
     ]
    },
    {
     "name": "stdout",
     "output_type": "stream",
     "text": [
      "[('Genelec', 'NNP'), ('8010A', 'CD'), ('3', 'CD'), (\"''\", \"''\"), ('Powered', 'VBN'), ('Studio', 'NNP'), ('Monitor', 'NNP')]\n",
      "[('Synthedelia', 'NNS'), (':', ':'), ('Psychedelic', 'NNP'), ('Electronic', 'NNP'), ('Music', 'NNP'), ('in', 'IN'), ('the', 'DT'), ('1960s', 'NNS')]\n",
      "[('Rogério', 'NNP'), ('Duprat', 'NNP'), ('–', 'NNP'), ('Tropicália', 'NNP')]\n",
      "[('Unknown', 'IN'), ('Mortal', 'NNP'), ('Orchestra', 'NNP'), ('AMA', 'NNP')]\n",
      "[('lines', 'NNS')]\n",
      "[('Girl', 'NNP'), ('Turk', 'NNP'), (':', ':'), ('Mechanical', 'JJ'), ('Turk', 'NNP'), ('Meets', 'NNP'), ('Girl', 'NNP'), ('Talk', 'NNP'), (\"'s\", 'POS'), ('``', '``'), ('Feed', 'NNP'), ('the', 'DT'), ('Animals', 'NNS'), (\"''\", \"''\")]\n",
      "[('Return', 'NN'), ('of', 'IN'), ('the', 'DT'), ('Obra', 'NNP'), ('Dinn', 'NNP'), ('-', ':'), ('Sound', 'NN')]\n",
      "[('Klanghelm', 'NNP'), ('SDRR', 'NNP')]\n"
     ]
    }
   ],
   "source": [
    "for bookmark in with_tag(\"production\"):\n",
    "    tokenized = nltk.word_tokenize(bookmark.title)\n",
    "    print(nltk.pos_tag(tokenized))"
   ]
  },
  {
   "cell_type": "code",
   "execution_count": 111,
   "metadata": {},
   "outputs": [
    {
     "name": "stdout",
     "output_type": "stream",
     "text": [
      "[('music', 112), ('design', 105), ('game', 92), ('|', 77), ('art', 70), ('program', 61), ('comput', 57), ('book', 57), ('’', 53), ('sound', 49), ('guid', 48), ('list', 43), ('learn', 41), ('googl', 37), ('visual', 37), ('anim', 37), ('audio', 37), ('languag', 36), ('python', 35), ('font', 33), ('film', 31), ('algorithm', 31), ('code', 30), ('world', 30), ('make', 30), ('–', 30), ('web', 28), ('develop', 27), ('graphic', 26), ('free', 26), ('use', 24), ('engin', 24), ('illustr', 23), ('interview', 23), ('tutori', 23), ('type', 22), ('synthesi', 21), ('—', 21), ('instrument', 21), ('color', 21), ('project', 21), ('movi', 20), ('video', 20), ('scienc', 20), ('album', 20), ('new', 20), ('machin', 20), ('jazz', 19), ('data', 19), ('guitar', 19)]\n"
     ]
    }
   ],
   "source": [
    "from collections import Counter\n",
    "from nltk.stem.porter import PorterStemmer\n",
    "porter_stemmer = PorterStemmer()\n",
    "\n",
    "words = []\n",
    "\n",
    "relevant_pos = [\n",
    "    \"NNP\",\n",
    "    \"NN\",\n",
    "    \"NNS\",\n",
    "    \"JJ\",\n",
    "    \"VB\",\n",
    "    \"VBG\",\n",
    "]\n",
    "\n",
    "for bookmark in bookmarks:\n",
    "    tokenized = nltk.word_tokenize(bookmark.title)\n",
    "    for word, pos in nltk.pos_tag(tokenized):\n",
    "        if pos in relevant_pos:\n",
    "            words.append( porter_stemmer.stem(word))\n",
    "            \n",
    "most_freq = Counter(words)\n",
    "print(most_freq.most_common(50))"
   ]
  }
 ],
 "metadata": {
  "kernelspec": {
   "display_name": "Python 3",
   "language": "python",
   "name": "python3"
  },
  "language_info": {
   "codemirror_mode": {
    "name": "ipython",
    "version": 3
   },
   "file_extension": ".py",
   "mimetype": "text/x-python",
   "name": "python",
   "nbconvert_exporter": "python",
   "pygments_lexer": "ipython3",
   "version": "3.5.2"
  }
 },
 "nbformat": 4,
 "nbformat_minor": 2
}
